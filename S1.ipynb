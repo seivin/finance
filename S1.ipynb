{
  "nbformat": 4,
  "nbformat_minor": 0,
  "metadata": {
    "colab": {
      "name": "S1.ipynb",
      "provenance": []
    },
    "kernelspec": {
      "name": "python3",
      "display_name": "Python 3"
    }
  },
  "cells": [
    {
      "cell_type": "code",
      "metadata": {
        "id": "Yzb3wa44Jf9u"
      },
      "source": [
        "import math\n",
        "import numpy as np\n",
        "import pandas as pd\n",
        "import matplotlib.pyplot as plt\n",
        "import seaborn as sns\n",
        "import pandas_datareader as web"
      ],
      "execution_count": 23,
      "outputs": []
    },
    {
      "cell_type": "code",
      "metadata": {
        "id": "epK_mbSQJjAy"
      },
      "source": [
        "df = web.DataReader(\"FB\", data_source=\"yahoo\", start=\"2019-01-01\", end=\"2020-07-10\")"
      ],
      "execution_count": 24,
      "outputs": []
    },
    {
      "cell_type": "code",
      "metadata": {
        "id": "swsSLXEXJltP",
        "outputId": "5e37c020-3fac-4a90-b57a-21b00a95b234",
        "colab": {
          "base_uri": "https://localhost:8080/"
        }
      },
      "source": [
        "df.info()"
      ],
      "execution_count": 25,
      "outputs": [
        {
          "output_type": "stream",
          "text": [
            "<class 'pandas.core.frame.DataFrame'>\n",
            "DatetimeIndex: 384 entries, 2019-01-02 to 2020-07-10\n",
            "Data columns (total 6 columns):\n",
            " #   Column     Non-Null Count  Dtype  \n",
            "---  ------     --------------  -----  \n",
            " 0   High       384 non-null    float64\n",
            " 1   Low        384 non-null    float64\n",
            " 2   Open       384 non-null    float64\n",
            " 3   Close      384 non-null    float64\n",
            " 4   Volume     384 non-null    int64  \n",
            " 5   Adj Close  384 non-null    float64\n",
            "dtypes: float64(5), int64(1)\n",
            "memory usage: 21.0 KB\n"
          ],
          "name": "stdout"
        }
      ]
    },
    {
      "cell_type": "code",
      "metadata": {
        "id": "G8Si_ivCJmzx",
        "outputId": "245e3432-0f58-4fea-8a9d-3c9131c29107",
        "colab": {
          "base_uri": "https://localhost:8080/",
          "height": 228
        }
      },
      "source": [
        "df.head()"
      ],
      "execution_count": 26,
      "outputs": [
        {
          "output_type": "execute_result",
          "data": {
            "text/html": [
              "<div>\n",
              "<style scoped>\n",
              "    .dataframe tbody tr th:only-of-type {\n",
              "        vertical-align: middle;\n",
              "    }\n",
              "\n",
              "    .dataframe tbody tr th {\n",
              "        vertical-align: top;\n",
              "    }\n",
              "\n",
              "    .dataframe thead th {\n",
              "        text-align: right;\n",
              "    }\n",
              "</style>\n",
              "<table border=\"1\" class=\"dataframe\">\n",
              "  <thead>\n",
              "    <tr style=\"text-align: right;\">\n",
              "      <th></th>\n",
              "      <th>High</th>\n",
              "      <th>Low</th>\n",
              "      <th>Open</th>\n",
              "      <th>Close</th>\n",
              "      <th>Volume</th>\n",
              "      <th>Adj Close</th>\n",
              "    </tr>\n",
              "    <tr>\n",
              "      <th>Date</th>\n",
              "      <th></th>\n",
              "      <th></th>\n",
              "      <th></th>\n",
              "      <th></th>\n",
              "      <th></th>\n",
              "      <th></th>\n",
              "    </tr>\n",
              "  </thead>\n",
              "  <tbody>\n",
              "    <tr>\n",
              "      <th>2019-01-02</th>\n",
              "      <td>137.509995</td>\n",
              "      <td>128.559998</td>\n",
              "      <td>128.990005</td>\n",
              "      <td>135.679993</td>\n",
              "      <td>28146200</td>\n",
              "      <td>135.679993</td>\n",
              "    </tr>\n",
              "    <tr>\n",
              "      <th>2019-01-03</th>\n",
              "      <td>137.169998</td>\n",
              "      <td>131.119995</td>\n",
              "      <td>134.690002</td>\n",
              "      <td>131.740005</td>\n",
              "      <td>22717900</td>\n",
              "      <td>131.740005</td>\n",
              "    </tr>\n",
              "    <tr>\n",
              "      <th>2019-01-04</th>\n",
              "      <td>138.000000</td>\n",
              "      <td>133.750000</td>\n",
              "      <td>134.009995</td>\n",
              "      <td>137.949997</td>\n",
              "      <td>29002100</td>\n",
              "      <td>137.949997</td>\n",
              "    </tr>\n",
              "    <tr>\n",
              "      <th>2019-01-07</th>\n",
              "      <td>138.869995</td>\n",
              "      <td>135.910004</td>\n",
              "      <td>137.559998</td>\n",
              "      <td>138.050003</td>\n",
              "      <td>20089300</td>\n",
              "      <td>138.050003</td>\n",
              "    </tr>\n",
              "    <tr>\n",
              "      <th>2019-01-08</th>\n",
              "      <td>143.139999</td>\n",
              "      <td>139.539993</td>\n",
              "      <td>139.889999</td>\n",
              "      <td>142.529999</td>\n",
              "      <td>26263800</td>\n",
              "      <td>142.529999</td>\n",
              "    </tr>\n",
              "  </tbody>\n",
              "</table>\n",
              "</div>"
            ],
            "text/plain": [
              "                  High         Low  ...    Volume   Adj Close\n",
              "Date                                ...                      \n",
              "2019-01-02  137.509995  128.559998  ...  28146200  135.679993\n",
              "2019-01-03  137.169998  131.119995  ...  22717900  131.740005\n",
              "2019-01-04  138.000000  133.750000  ...  29002100  137.949997\n",
              "2019-01-07  138.869995  135.910004  ...  20089300  138.050003\n",
              "2019-01-08  143.139999  139.539993  ...  26263800  142.529999\n",
              "\n",
              "[5 rows x 6 columns]"
            ]
          },
          "metadata": {
            "tags": []
          },
          "execution_count": 26
        }
      ]
    },
    {
      "cell_type": "code",
      "metadata": {
        "id": "kv-mHuixJp3u",
        "outputId": "a014113d-5842-4438-d8f9-d76359e0a2d6",
        "colab": {
          "base_uri": "https://localhost:8080/",
          "height": 228
        }
      },
      "source": [
        "df.tail()"
      ],
      "execution_count": 27,
      "outputs": [
        {
          "output_type": "execute_result",
          "data": {
            "text/html": [
              "<div>\n",
              "<style scoped>\n",
              "    .dataframe tbody tr th:only-of-type {\n",
              "        vertical-align: middle;\n",
              "    }\n",
              "\n",
              "    .dataframe tbody tr th {\n",
              "        vertical-align: top;\n",
              "    }\n",
              "\n",
              "    .dataframe thead th {\n",
              "        text-align: right;\n",
              "    }\n",
              "</style>\n",
              "<table border=\"1\" class=\"dataframe\">\n",
              "  <thead>\n",
              "    <tr style=\"text-align: right;\">\n",
              "      <th></th>\n",
              "      <th>High</th>\n",
              "      <th>Low</th>\n",
              "      <th>Open</th>\n",
              "      <th>Close</th>\n",
              "      <th>Volume</th>\n",
              "      <th>Adj Close</th>\n",
              "    </tr>\n",
              "    <tr>\n",
              "      <th>Date</th>\n",
              "      <th></th>\n",
              "      <th></th>\n",
              "      <th></th>\n",
              "      <th></th>\n",
              "      <th></th>\n",
              "      <th></th>\n",
              "    </tr>\n",
              "  </thead>\n",
              "  <tbody>\n",
              "    <tr>\n",
              "      <th>2020-07-06</th>\n",
              "      <td>240.399994</td>\n",
              "      <td>232.270004</td>\n",
              "      <td>233.759995</td>\n",
              "      <td>240.279999</td>\n",
              "      <td>26206200</td>\n",
              "      <td>240.279999</td>\n",
              "    </tr>\n",
              "    <tr>\n",
              "      <th>2020-07-07</th>\n",
              "      <td>247.649994</td>\n",
              "      <td>238.820007</td>\n",
              "      <td>239.410004</td>\n",
              "      <td>240.860001</td>\n",
              "      <td>27887800</td>\n",
              "      <td>240.860001</td>\n",
              "    </tr>\n",
              "    <tr>\n",
              "      <th>2020-07-08</th>\n",
              "      <td>246.990005</td>\n",
              "      <td>236.589996</td>\n",
              "      <td>238.110001</td>\n",
              "      <td>243.580002</td>\n",
              "      <td>29791300</td>\n",
              "      <td>243.580002</td>\n",
              "    </tr>\n",
              "    <tr>\n",
              "      <th>2020-07-09</th>\n",
              "      <td>246.529999</td>\n",
              "      <td>239.240005</td>\n",
              "      <td>245.000000</td>\n",
              "      <td>244.500000</td>\n",
              "      <td>22174900</td>\n",
              "      <td>244.500000</td>\n",
              "    </tr>\n",
              "    <tr>\n",
              "      <th>2020-07-10</th>\n",
              "      <td>245.490005</td>\n",
              "      <td>239.320007</td>\n",
              "      <td>243.690002</td>\n",
              "      <td>245.070007</td>\n",
              "      <td>22982700</td>\n",
              "      <td>245.070007</td>\n",
              "    </tr>\n",
              "  </tbody>\n",
              "</table>\n",
              "</div>"
            ],
            "text/plain": [
              "                  High         Low  ...    Volume   Adj Close\n",
              "Date                                ...                      \n",
              "2020-07-06  240.399994  232.270004  ...  26206200  240.279999\n",
              "2020-07-07  247.649994  238.820007  ...  27887800  240.860001\n",
              "2020-07-08  246.990005  236.589996  ...  29791300  243.580002\n",
              "2020-07-09  246.529999  239.240005  ...  22174900  244.500000\n",
              "2020-07-10  245.490005  239.320007  ...  22982700  245.070007\n",
              "\n",
              "[5 rows x 6 columns]"
            ]
          },
          "metadata": {
            "tags": []
          },
          "execution_count": 27
        }
      ]
    },
    {
      "cell_type": "code",
      "metadata": {
        "id": "S_75dUPGJssY",
        "outputId": "d0191329-36a0-49c2-956f-e1a13078ecd1",
        "colab": {
          "base_uri": "https://localhost:8080/",
          "height": 288
        }
      },
      "source": [
        "df.describe()"
      ],
      "execution_count": 28,
      "outputs": [
        {
          "output_type": "execute_result",
          "data": {
            "text/html": [
              "<div>\n",
              "<style scoped>\n",
              "    .dataframe tbody tr th:only-of-type {\n",
              "        vertical-align: middle;\n",
              "    }\n",
              "\n",
              "    .dataframe tbody tr th {\n",
              "        vertical-align: top;\n",
              "    }\n",
              "\n",
              "    .dataframe thead th {\n",
              "        text-align: right;\n",
              "    }\n",
              "</style>\n",
              "<table border=\"1\" class=\"dataframe\">\n",
              "  <thead>\n",
              "    <tr style=\"text-align: right;\">\n",
              "      <th></th>\n",
              "      <th>High</th>\n",
              "      <th>Low</th>\n",
              "      <th>Open</th>\n",
              "      <th>Close</th>\n",
              "      <th>Volume</th>\n",
              "      <th>Adj Close</th>\n",
              "    </tr>\n",
              "  </thead>\n",
              "  <tbody>\n",
              "    <tr>\n",
              "      <th>count</th>\n",
              "      <td>384.000000</td>\n",
              "      <td>384.000000</td>\n",
              "      <td>384.000000</td>\n",
              "      <td>384.000000</td>\n",
              "      <td>3.840000e+02</td>\n",
              "      <td>384.000000</td>\n",
              "    </tr>\n",
              "    <tr>\n",
              "      <th>mean</th>\n",
              "      <td>191.639635</td>\n",
              "      <td>186.884870</td>\n",
              "      <td>189.224505</td>\n",
              "      <td>189.451927</td>\n",
              "      <td>1.875207e+07</td>\n",
              "      <td>189.451927</td>\n",
              "    </tr>\n",
              "    <tr>\n",
              "      <th>std</th>\n",
              "      <td>23.067934</td>\n",
              "      <td>22.892223</td>\n",
              "      <td>23.015610</td>\n",
              "      <td>23.034310</td>\n",
              "      <td>9.964204e+06</td>\n",
              "      <td>23.034310</td>\n",
              "    </tr>\n",
              "    <tr>\n",
              "      <th>min</th>\n",
              "      <td>137.169998</td>\n",
              "      <td>128.559998</td>\n",
              "      <td>128.990005</td>\n",
              "      <td>131.740005</td>\n",
              "      <td>6.046300e+06</td>\n",
              "      <td>131.740005</td>\n",
              "    </tr>\n",
              "    <tr>\n",
              "      <th>25%</th>\n",
              "      <td>177.665001</td>\n",
              "      <td>172.865005</td>\n",
              "      <td>175.205006</td>\n",
              "      <td>175.012493</td>\n",
              "      <td>1.213450e+07</td>\n",
              "      <td>175.012493</td>\n",
              "    </tr>\n",
              "    <tr>\n",
              "      <th>50%</th>\n",
              "      <td>190.275002</td>\n",
              "      <td>185.915001</td>\n",
              "      <td>188.285004</td>\n",
              "      <td>188.394997</td>\n",
              "      <td>1.581055e+07</td>\n",
              "      <td>188.394997</td>\n",
              "    </tr>\n",
              "    <tr>\n",
              "      <th>75%</th>\n",
              "      <td>205.180000</td>\n",
              "      <td>200.382500</td>\n",
              "      <td>202.614998</td>\n",
              "      <td>202.557499</td>\n",
              "      <td>2.209998e+07</td>\n",
              "      <td>202.557499</td>\n",
              "    </tr>\n",
              "    <tr>\n",
              "      <th>max</th>\n",
              "      <td>247.649994</td>\n",
              "      <td>239.860001</td>\n",
              "      <td>245.000000</td>\n",
              "      <td>245.070007</td>\n",
              "      <td>7.723360e+07</td>\n",
              "      <td>245.070007</td>\n",
              "    </tr>\n",
              "  </tbody>\n",
              "</table>\n",
              "</div>"
            ],
            "text/plain": [
              "             High         Low        Open       Close        Volume   Adj Close\n",
              "count  384.000000  384.000000  384.000000  384.000000  3.840000e+02  384.000000\n",
              "mean   191.639635  186.884870  189.224505  189.451927  1.875207e+07  189.451927\n",
              "std     23.067934   22.892223   23.015610   23.034310  9.964204e+06   23.034310\n",
              "min    137.169998  128.559998  128.990005  131.740005  6.046300e+06  131.740005\n",
              "25%    177.665001  172.865005  175.205006  175.012493  1.213450e+07  175.012493\n",
              "50%    190.275002  185.915001  188.285004  188.394997  1.581055e+07  188.394997\n",
              "75%    205.180000  200.382500  202.614998  202.557499  2.209998e+07  202.557499\n",
              "max    247.649994  239.860001  245.000000  245.070007  7.723360e+07  245.070007"
            ]
          },
          "metadata": {
            "tags": []
          },
          "execution_count": 28
        }
      ]
    },
    {
      "cell_type": "code",
      "metadata": {
        "id": "s5yBP9xvJ6CM",
        "outputId": "0ec05ddf-6de3-46c1-a0a3-0fbf6c4fe185",
        "colab": {
          "base_uri": "https://localhost:8080/",
          "height": 527
        }
      },
      "source": [
        "plt.figure(figsize=(16,8))\n",
        "plt.title(\"Facebook price history\", fontsize=\"24\")\n",
        "plt.plot(df[\"Close\"])\n",
        "plt.xlabel(\"Date\", fontsize=\"16\")\n",
        "plt.ylabel(\"Close price (in USD)\", fontsize=\"16\")\n",
        "plt.show()"
      ],
      "execution_count": 29,
      "outputs": [
        {
          "output_type": "display_data",
          "data": {
            "image/png": "[encoded data removed]",
            "text/plain": [
              "<Figure size 1152x576 with 1 Axes>"
            ]
          },
          "metadata": {
            "tags": [],
            "needs_background": "light"
          }
        }
      ]
    },
    {
      "cell_type": "code",
      "metadata": {
        "id": "_UrU4FwEJ-Rv",
        "outputId": "5d3107b9-c33b-4020-89ca-b3023d34f076",
        "colab": {
          "base_uri": "https://localhost:8080/"
        }
      },
      "source": [
        "df['Returns'] = df['Close'].pct_change()\n",
        "# df[\"simple return\"] = (df[\"Close\"] / df[\"Close\"].shift(1)) - 1\n",
        "df['Returns']"
      ],
      "execution_count": 30,
      "outputs": [
        {
          "output_type": "execute_result",
          "data": {
            "text/plain": [
              "Date\n",
              "2019-01-02         NaN\n",
              "2019-01-03   -0.029039\n",
              "2019-01-04    0.047138\n",
              "2019-01-07    0.000725\n",
              "2019-01-08    0.032452\n",
              "                ...   \n",
              "2020-07-06    0.029389\n",
              "2020-07-07    0.002414\n",
              "2020-07-08    0.011293\n",
              "2020-07-09    0.003777\n",
              "2020-07-10    0.002331\n",
              "Name: Returns, Length: 384, dtype: float64"
            ]
          },
          "metadata": {
            "tags": []
          },
          "execution_count": 30
        }
      ]
    },
    {
      "cell_type": "code",
      "metadata": {
        "id": "xJUrdco6M8TM",
        "outputId": "c8465b9c-45fb-4846-de55-8b94042ade05",
        "colab": {
          "base_uri": "https://localhost:8080/"
        }
      },
      "source": [
        "print(\"Skewness: %f\" % df['Close'].skew())"
      ],
      "execution_count": 31,
      "outputs": [
        {
          "output_type": "stream",
          "text": [
            "Skewness: 0.161449\n"
          ],
          "name": "stdout"
        }
      ]
    },
    {
      "cell_type": "code",
      "metadata": {
        "id": "ILvNjSpANANN",
        "outputId": "59908417-7560-4032-8d0a-cc8f537363d3",
        "colab": {
          "base_uri": "https://localhost:8080/"
        }
      },
      "source": [
        "print(\"Kurtosis: %f\" % df['Close'].kurt())"
      ],
      "execution_count": 32,
      "outputs": [
        {
          "output_type": "stream",
          "text": [
            "Kurtosis: -0.162936\n"
          ],
          "name": "stdout"
        }
      ]
    },
    {
      "cell_type": "code",
      "metadata": {
        "id": "c7nWB3lJOYep"
      },
      "source": [
        ""
      ],
      "execution_count": 32,
      "outputs": []
    }
  ]
}